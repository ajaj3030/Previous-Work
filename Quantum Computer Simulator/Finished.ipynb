{
 "cells": [
  {
   "cell_type": "code",
   "execution_count": 2,
   "id": "595e2e39",
   "metadata": {},
   "outputs": [],
   "source": [
    "from abc import ABC, abstractmethod\n",
    "\n",
    "class Quantum_reg(ABC):\n",
    "    \n",
    "    @abstractmethod\n",
    "    def __init__(self, n_qubits):\n",
    "        pass\n",
    "    \n",
    "    @abstractmethod\n",
    "    def set_qubits(self, state_vector):\n",
    "        pass\n",
    "    \n",
    "    @abstractmethod\n",
    "    def apply_gate(self, gate, qubits):\n",
    "        pass\n",
    "    \n",
    "    @abstractmethod\n",
    "    def measure(self, qubits):\n",
    "        pass\n",
    "    \n",
    "    @abstractmethod\n",
    "    def reset(self):\n",
    "        pass"
   ]
  },
  {
   "cell_type": "code",
   "execution_count": null,
   "id": "776b6405",
   "metadata": {},
   "outputs": [],
   "source": [
    "#External Packages\n",
    "import numpy as np \n",
    "import matplotlib.pyplot as plt\n",
    "from scipy.linalg import sqrtm\n",
    "import copy \n",
    "from numpy.random import randint\n",
    "from fractions import Fraction\n",
    "# qbit Class\n",
    "# it creates a qbit in the |0> state. \n",
    "# Properties\n",
    "# state: gives an array with the amplitude of the state |1> and |0> respectively \n",
    "\n",
    "class qbit:\n",
    "    def __init__(self,state:list[complex]=[1,0]):\n",
    "        self.state = np.array(state,dtype=complex)\n",
    "        \n",
    "# Quantum Register Class\n",
    "# it creates a quantum register of n (length) qbits  all in the state |0>. \n",
    "# Properties\n",
    "# length= number of qbit in the quantum register (type:int)\n",
    "# tensor= state vector of que the quantum register (type:array)\n",
    "\n",
    "class quantum_reg:    \n",
    "    def __init__(self,length:int):\n",
    "        self.length=length\n",
    "        qb_array=[]\n",
    "        for i in range (length):\n",
    "            qb_array.append(qbit())\n",
    "        self.qb_array=np.array(qb_array)\n",
    "        self.tensor_prod_priv()\n",
    "    \n",
    "    #tensor_prod_priv : method that creates the initial state vector of the system by doing tensor product\n",
    "    #of the individual qbits.     \n",
    "    def tensor_prod_priv(self): \n",
    "        self.tensor=self.qb_array[0].state;\n",
    "        for qb in self.qb_array[1:]:\n",
    "            temp=[]\n",
    "            for i in range(np.size(qb.state)):\n",
    "                for j in range(np.size(self.tensor)):\n",
    "                    temp.append(self.tensor[j]*qb.state[i])\n",
    "            self.tensor=np.array(temp) / np.linalg.norm(np.array(temp))\n",
    "            \n",
    "            \n",
    "#--------------------------- 1 QBit Gates ---------------------------------------#          \n",
    "    \n",
    "    def h(self,pos:int):\n",
    "        \"\"\" Hadamard Gate method which creates the matrix of the gate whichc acts on the state n (pos) of the quantum register\n",
    "        his method applies the Hadamard gate to the state vector of the quantum register.\n",
    "        Parameters:\n",
    "                pos:  position of the qbit to which the h gate is applied (type:int)\n",
    "\n",
    "        #return: an array with the matrix corresponding to the Hadamard gate.\n",
    "        \n",
    "        \"\"\"\n",
    "        matrix=np.zeros([2**self.length,2**self.length], dtype=complex)\n",
    "        for i in range(2**self.length):\n",
    "            base=np.zeros(self.length,dtype=int)\n",
    "            bin_i=[*(str(bin(i))[2:])]\n",
    "            base[-len(bin_i):]=bin_i\n",
    "            bin_i=base;\n",
    "            pos1=int(''.join(np.array(bin_i,dtype=str).tolist()), 2)\n",
    "            matrix[pos1,i]=(-1)**bin_i[-1-pos]\n",
    "            pos2=bin_i;\n",
    "            pos2[-pos-1]=1-bin_i[-1-pos]\n",
    "            pos2=int(''.join(np.array(pos2,dtype=str).tolist()), 2)               \n",
    "            matrix[pos2,i]=1\n",
    "\n",
    "        resp=matrix.dot(self.tensor)\n",
    "        self.tensor=resp/ np.linalg.norm(np.array(resp))\n",
    "        matrix=matrix/ np.linalg.norm(np.array(resp))\n",
    "        return matrix\n",
    "\n",
    "       \n",
    "    def p(self,pos:int,theta:float,conj:int=0):\n",
    "        \"\"\" Phase Gate method which creates the matrix of the gate which acts on the state n (pos) of the quantum register\n",
    "\n",
    "        This method applies the phase gate to the state vector of the quantum register.\n",
    "        Parameters:\n",
    "                pos:  position of the qbit to which the h gate is applied (type:int)\n",
    "                theta: phase of the gate (type:float)\n",
    "                conj: 0 if the gate is not conjugated, 1 if it is (type:int)\n",
    "        Returns:\n",
    "                an array with the matrix corresponding to the phase gate.\n",
    "        \"\"\"\n",
    "        matrix=np.zeros([2**self.length,2**self.length],dtype=complex)\n",
    "        for i in range(2**self.length):\n",
    "            base=np.zeros(self.length,dtype=int)\n",
    "            bin_i=[*(str(bin(i))[2:])]\n",
    "            base[-len(bin_i):]=bin_i\n",
    "            bin_i=base;\n",
    "            if bin_i[-1-pos]==0:\n",
    "                pos1=int(''.join(np.array(bin_i,dtype=str).tolist()), 2)\n",
    "                matrix[pos1,i]=1\n",
    "            else: \n",
    "                pos1=int(''.join(np.array(bin_i,dtype=str).tolist()), 2)\n",
    "                matrix[pos1,i]=np.exp(1j*theta*((-1)**conj))\n",
    "\n",
    "        resp=matrix.dot(self.tensor)\n",
    "        self.tensor=resp/ np.linalg.norm(np.array(resp))\n",
    "        matrix=matrix/ np.linalg.norm(np.array(resp))\n",
    "        return matrix\n",
    "    \n",
    "\n",
    "    def t(self,pos:int,conj:int=0):\n",
    "        \"\"\" T Gate method which creates the matrix of the gate which acts on the state n (pos) of the quantum register\n",
    "        \n",
    "        This method applies the T gate to the state vector of the quantum register.\n",
    "        Parameters:\n",
    "                pos:  position of the qbit to which the h gate is applied (type:int)\n",
    "                conj: 0 if the gate is not conjugated, 1 if it is (type:int)        \n",
    "        Returns:\n",
    "                an array with the matrix corresponding to the T gate.\n",
    "        \"\"\"\n",
    "        return self.p(pos,np.pi*0.25,conj)\n",
    "    \n",
    "\n",
    "    def s(self,pos:int,conj:int=0):\n",
    "        \"\"\" S Gate method which creates the matrix of the gate which acts on the state n (pos) of the quantum register\n",
    "        \n",
    "        This method applies the S gate to the state vector of the quantum register.\n",
    "\n",
    "        Parameters:\n",
    "                pos:  position of the qbit to which the h gate is applied (type:int)\n",
    "                conj: 0 if the gate is not conjugated, 1 if it is (type:int)    \n",
    "        Returns:   \n",
    "                an array with the matrix corresponding to the S gate.\n",
    "        \"\"\"\n",
    "        return self.p(pos,np.pi*0.5,conj)\n",
    "    \n",
    "\n",
    "    def Rz(self,pos:int,theta:float,conj:int=0):\n",
    "        \"\"\" Rz Gate method which creates the matrix of the gate which acts on the state n (pos) of the quantum register\n",
    "        \n",
    "        This method applies the Rz gate to the state vector of the quantum register.\n",
    "\n",
    "        Parameters: \n",
    "                pos:  position of the qbit to which the h gate is applied (type:int)\n",
    "                theta: phase of the gate (type:float)\n",
    "                conj: 0 if the gate is not conjugated, 1 if it is (type:int)\n",
    "        Returns:\n",
    "                an array with the matrix corresponding to the Rz gate.\n",
    "        \"\"\"\n",
    "        matrix=np.zeros([2**self.length,2**self.length], dtype=complex)\n",
    "        for i in range(2**self.length):\n",
    "            base=np.zeros(self.length,dtype=int)\n",
    "            bin_i=[*(str(bin(i))[2:])]\n",
    "            base[-len(bin_i):]=bin_i\n",
    "            bin_i=base; \n",
    "            pos1=int(''.join(np.array(bin_i,dtype=str).tolist()), 2)\n",
    "            matrix[pos1,i]=np.exp((-1)**(1-bin_i[-1-pos])*1j*((-1)**(conj))*theta/(2))\n",
    "\n",
    "        resp=matrix.dot(self.tensor)\n",
    "        self.tensor=resp/ np.linalg.norm(np.array(resp))\n",
    "        matrix=matrix/ np.linalg.norm(np.array(resp))\n",
    "        return matrix\n",
    "    \n",
    "\n",
    "    def Ry(self,pos:int,theta:float=0):\n",
    "        \"\"\" Ry Gate method which creates the matrix of the gate which acts on the state n (pos) of the quantum register\n",
    "        \n",
    "        This method applies the Ry gate to the state vector of the quantum register.\n",
    "\n",
    "        Parameters: \n",
    "                pos:  position of the qbit to which the h gate is applied (type:int)\n",
    "                theta: phase of the gate (type:float)\n",
    "        Returns:\n",
    "                an array with the matrix corresponding to the Ry gate.\n",
    "        \"\"\"\n",
    "        matrix=np.zeros([2**self.length,2**self.length], dtype=complex)\n",
    "        for i in range(2**self.length):\n",
    "            base=np.zeros(self.length,dtype=int)\n",
    "            bin_i=[*(str(bin(i))[2:])]\n",
    "            base[-len(bin_i):]=bin_i\n",
    "            bin_i=base;\n",
    "            pos1=int(''.join(np.array(bin_i,dtype=str).tolist()), 2)\n",
    "            matrix[pos1,i]=np.cos(theta/2)\n",
    "            pos2=bin_i;\n",
    "            pos2[-pos-1]=1-bin_i[-1-pos]\n",
    "            pos2=int(''.join(np.array(pos2,dtype=str).tolist()), 2)               \n",
    "            matrix[pos2,i]=(-1)**bin_i[-1-pos]*np.sin(theta/2)\n",
    "            \n",
    "        resp=matrix.dot(self.tensor)\n",
    "        self.tensor=resp/ np.linalg.norm(np.array(resp))\n",
    "        matrix=matrix/ np.linalg.norm(np.array(resp))\n",
    "        return matrix\n",
    "    \n",
    "\n",
    "    #///////////////////// Pauli Gates //////////////////////#\n",
    "        \n",
    "    \n",
    "    def z(self,pos:int):\n",
    "        \"\"\" Pauli Z Gate method which creates the matrix of the gate which acts on the state n (pos) of the quantum register\n",
    "        \n",
    "        This method applies the Pauli Z gate to the state vector of the quantum register.\n",
    "\n",
    "        Parameters: \n",
    "                pos:  position of the qbit to which the h gate is applied (type:int)\n",
    "        Returns:\n",
    "                an array with the matrix corresponding to the Pauli Z gate.\n",
    "        \"\"\"\n",
    "        return self.p(pos,np.pi)\n",
    "    \n",
    "    \n",
    "    def x(self, pos:int):\n",
    "        \"\"\" Pauli X Gate method which creates the matrix of the gate which acts on the state n (pos) of the quantum register\n",
    "        \n",
    "        This method applies the Pauli X gate to the state vector of the quantum register.\n",
    "\n",
    "        Parameters: \n",
    "                pos:  position of the qbit to which the h gate is applied (type:int)\n",
    "        Returns:\n",
    "                an array with the matrix corresponding to the Pauli X gate.\n",
    "        \"\"\"\n",
    "        matrix=self.h(pos)\n",
    "        matrix=matrix.dot(self.z(pos))\n",
    "        matrix=matrix.dot(self.h(pos))\n",
    "\n",
    "        return matrix\n",
    "    \n",
    "\n",
    "    def y(self, pos:int):\n",
    "        \"\"\" Pauli Y Gate method which creates the matrix of the gate which acts on the state n (pos) of the quantum register\n",
    "        \n",
    "        This method applies the Pauli Y gate to the state vector of the quantum register.\n",
    "\n",
    "        Parameters: \n",
    "                pos:  position of the qbit to which the h gate is applied (type:int)\n",
    "        Returns:\n",
    "                an array with the matrix corresponding to the Pauli Y gate.\n",
    "        \"\"\"\n",
    "        matrix=self.s(pos)\n",
    "        matrix=matrix.dot(self.x(pos))\n",
    "        matrix=matrix.dot(self.s(pos,1))\n",
    "        return matrix\n",
    "    \n",
    "#--------------------------- 2 QBit Gates ---------------------------------------#   \n",
    "\n",
    "    def cx(self,control:int,target:int):\n",
    "        \"\"\" CNOT Gate method which creates the matrix of the gate which acts on the state n (pos) of the quantum register\n",
    "\n",
    "        This method applies the CNOT gate to the state vector of the quantum register.\n",
    "\n",
    "        Parameters:\n",
    "                control: position of the control qbit (type:int)\n",
    "                target: position of the target qbit (type:int)\n",
    "        Returns:\n",
    "                an array with the matrix corresponding to the CNOT gate.\n",
    "        \"\"\"\n",
    "        matrix=np.zeros([2**self.length,2**self.length],dtype=complex)\n",
    "        for i in range(2**self.length):\n",
    "            base=np.zeros(self.length,dtype=int)\n",
    "            bin_i=[*(str(bin(i))[2:])]\n",
    "            base[-len(bin_i):]=bin_i\n",
    "            bin_i=base;\n",
    "            bin_i[-1-target]=1*bin_i[-1-control]+((-1)**bin_i[-1-control])*bin_i[-1-target]\n",
    "            pos3=int(''.join(np.array(bin_i,dtype=str).tolist()), 2)               \n",
    "            matrix[pos3,i]=1\n",
    "\n",
    "        resp=matrix.dot(self.tensor)\n",
    "        self.tensor=resp/ np.linalg.norm(np.array(resp))\n",
    "        matrix=matrix/ np.linalg.norm(np.array(resp))\n",
    "        return matrix    \n",
    "    \n",
    "\n",
    "    def cp(self,control:int,target:int,theta:int,conj:int=0):\n",
    "        \"\"\" Controlled Phase Gate method which creates the matrix of the gate which acts on the state n (pos) of the quantum register\n",
    "        \n",
    "        This method applies the Controlled Phase gate to the state vector of the quantum register.\n",
    "\n",
    "        Parameters:\n",
    "                control: position of the control qbit (type:int)\n",
    "                target: position of the target qbit (type:int)\n",
    "                theta: phase of the gate (type:float)\n",
    "                conj: 0 if the gate is not conjugated, 1 if it is (type:int)\n",
    "        Returns:\n",
    "                an array with the matrix corresponding to the Controlled Phase gate.\n",
    "        \"\"\"\n",
    "        matrix=np.zeros([2**self.length,2**self.length],dtype=complex)\n",
    "        for i in range(2**self.length):\n",
    "            base=np.zeros(self.length,dtype=int)\n",
    "            bin_i=[*(str(bin(i))[2:])]\n",
    "            base[-len(bin_i):]=bin_i\n",
    "            bin_i=base;\n",
    "            pos3=int(''.join(np.array(bin_i,dtype=str).tolist()), 2)  \n",
    "            matrix[pos3,i]=np.exp(((-1)**conj)*bin_i[-1-target]*bin_i[-1-control]*1j*theta)\n",
    "\n",
    "        resp=matrix.dot(self.tensor)\n",
    "        self.tensor=resp/ np.linalg.norm(np.array(resp))\n",
    "        matrix=matrix/ np.linalg.norm(np.array(resp))\n",
    "        return matrix \n",
    "    \n",
    "\n",
    "    def ck(self,control:int,target:int,k:int=1,conj:int=0):\n",
    "        \"\"\" Controlled k Gate method which creates the matrix of the gate which acts on the state n (pos) of the quantum register\n",
    "        \n",
    "        Parameters:\n",
    "                control: position of the control qbit (type:int)\n",
    "                target: position of the target qbit (type:int)\n",
    "                k: number of times the gate is applied (type:int)\n",
    "                conj: 0 if the gate is not conjugated, 1 if it is (type:int)\n",
    "        Returns:\n",
    "                an array with the matrix corresponding to the Controlled k gate.\n",
    "        \"\"\"\n",
    "        matrix=self.cp(control,target,2*np.pi/(2**k))\n",
    "        return matrix \n",
    "\n",
    "\n",
    "    def cz(self, control:int, target:int):\n",
    "        \"\"\" Controlled Z Gate method which creates the matrix of the gate which acts on the state n (pos) of the quantum register\n",
    "\n",
    "        This method applies the Controlled Z gate to the state vector of the quantum register.\n",
    "\n",
    "        Parameters:\n",
    "                control: position of the control qbit (type:int)\n",
    "                target: position of the target qbit (type:int)\n",
    "        Returns:\n",
    "                an array with the matrix corresponding to the Controlled Z gate.\n",
    "        \"\"\"\n",
    "        matrix=self.h(target)\n",
    "        matrix=matrix.dot(self.cx(control,target))\n",
    "        matrix=matrix.dot(self.h(target))\n",
    "        return matrix\n",
    "    \n",
    "\n",
    "    def swap(self, qb1:int, qb2:int):\n",
    "        \"\"\" Swap Gate method which creates the matrix of the gate which acts on the state n (pos) of the quantum register\n",
    "        \n",
    "        This method applies the Swap gate to the state vector of the quantum register.\n",
    "\n",
    "        Parameters:\n",
    "                qb1: position of the first qbit (type:int)\n",
    "                qb2: position of the second qbit (type:int)\n",
    "        Returns:\n",
    "                an array with the matrix corresponding to the Swap gate.\n",
    "        \"\"\"\n",
    "        matrix=self.cx(qb1,qb2);\n",
    "        matrix=matrix.dot(self.cx(qb2,qb1))\n",
    "        matrix=matrix.dot(self.cx(qb1,qb2))\n",
    "        return matrix\n",
    "    \n",
    "    \n",
    "#---------------------- Other Gates ------------------------#\n",
    "\n",
    "    #///////////////////// Quantum Fourier Transform //////////////////////#\n",
    "\n",
    "    def cft(self,n: int):\n",
    "        \"\"\" Quantum Fourier Transform method which creates the matrix of the gate which acts on the state n (pos) of the quantum register\n",
    "\n",
    "        This method applies the Quantum Fourier Transform gate to the state vector of the quantum register.\n",
    "\n",
    "        Parameters:\n",
    "                n: number of qbits to which the gate is applied (type:int)\n",
    "        Returns:\n",
    "                an array with the matrix corresponding to the Quantum Fourier Transform gate.\n",
    "        \"\"\"\n",
    "        matrix=np.diag(np.ones(2**self.length,dtype=complex))\n",
    "        for i in range(n):\n",
    "            matrix=matrix.dot(self.h(n-1-i))\n",
    "            for j in range(n-1-i):\n",
    "                matrix=matrix.dot(self.ck(j,n-1-i,n-i-j))\n",
    "        for qb in range(n//2):\n",
    "             matrix=matrix.dot(self.swap(qb, n-qb-1))\n",
    "        return matrix\n",
    "    \n",
    "    def icft(self,n: int):\n",
    "        \"\"\" Inverse Quantum Fourier Transform method which creates the matrix of the gate which acts on the state n (pos) of the quantum register\n",
    "\n",
    "        This method applies the Inverse Quantum Fourier Transform gate to the state vector of the quantum register.\n",
    "\n",
    "        Parameters:\n",
    "                n: number of qbits to which the gate is applied (type:int)\n",
    "        Returns:\n",
    "                an array with the matrix corresponding to the Inverse Quantum Fourier Transform gate.\n",
    "        \"\"\"\n",
    "        matrix=np.diag(np.ones(2**self.length,dtype=complex))\n",
    "        for qb in range(n//2):\n",
    "             matrix=matrix.dot(self.swap(qb, n-qb-1))\n",
    "        for i in range(n):\n",
    "            for j in range(i):\n",
    "                matrix=matrix.dot(self.ck(j,i,i-j+1,1))\n",
    "            matrix=matrix.dot(self.h(i))\n",
    "        return matrix\n",
    "    \n",
    "\n",
    "    def toffoli(self,c1:int,c2:int,t:int):\n",
    "        \"\"\" Toffoli Gate method which creates the matrix of the gate which acts on the state n (pos) of the quantum register\n",
    "        \n",
    "        Parameters:\n",
    "                c1: position of the first control qbit (type:int)\n",
    "                c2: position of the second control qbit (type:int)\n",
    "                t: position of the target qbit (type:int)\n",
    "\n",
    "        Returns:    \n",
    "                an array with the matrix corresponding to the Toffoli gate.\n",
    "        \"\"\"\n",
    "        matrix=np.diag(np.ones(2**self.length))\n",
    "        matrix=matrix.dot(self.h(t))\n",
    "        matrix=matrix.dot(self.cx(c2,t))\n",
    "        matrix=matrix.dot(self.t(t,1))\n",
    "        matrix=matrix.dot(self.cx(c1,t))\n",
    "        matrix=matrix.dot(self.t(t))\n",
    "        matrix=matrix.dot(self.cx(c2,t))\n",
    "        matrix=matrix.dot(self.t(t,1))\n",
    "        matrix=matrix.dot(self.cx(c1,t))\n",
    "        matrix=matrix.dot(self.t(t))\n",
    "        matrix=matrix.dot(self.t(c2))\n",
    "        matrix=matrix.dot(self.cx(c1,c2))\n",
    "        matrix=matrix.dot(self.h(t))\n",
    "        matrix=matrix.dot(self.t(c2,1))\n",
    "        matrix=matrix.dot(self.t(c1))\n",
    "        matrix=matrix.dot(self.cx(c1,c2))\n",
    "        return matrix\n",
    "\n",
    "\n",
    "    def ccz(self, reg, control1:int,control2:int, target:int):\n",
    "        \"\"\" CCZ Gate method which creates the matrix of the gate which acts on the state n (pos) of the quantum register\n",
    "        \n",
    "        Parameters:\n",
    "                reg: quantum register (type:quantum_reg)\n",
    "                control1: position of the first control qbit (type:int)\n",
    "                control2: position of the second control qbit (type:int)\n",
    "                target: position of the target qbit (type:int)\n",
    "        \n",
    "        Returns:   \n",
    "                an array with the matrix corresponding to the CCZ gate.\n",
    "        \"\"\"\n",
    "        matrix=reg.cx(control1,target)\n",
    "        matrix=matrix.dot(reg.t(target,1))\n",
    "        matrix=matrix.dot(reg.cx(control2,target))\n",
    "        matrix=matrix.dot(reg.t(target))\n",
    "        matrix=matrix.dot(reg.cx(control1,target))\n",
    "        matrix=matrix.dot(reg.t(target,1))\n",
    "        matrix=matrix.dot(reg.cx(control2,target))\n",
    "        matrix=matrix.dot(reg.t(target))\n",
    "        matrix=matrix.dot(reg.t(control1))\n",
    "        matrix=matrix.dot(reg.cx(control2,control1))\n",
    "        matrix=matrix.dot(reg.t(control1,1))\n",
    "        matrix=matrix.dot(reg.cx(control2,control1))\n",
    "        matrix=matrix.dot(reg.t(control2))\n",
    "        return matrix\n",
    "\n",
    "\n",
    "    def cccz(self, reg, control1:int,control2:int,control3:int, target:int):\n",
    "        \"\"\" CCCZ Gate method which creates the matrix of the gate which acts on the state n (pos) of the quantum register\n",
    "        \n",
    "        Parameters:\n",
    "                reg: quantum register (type:quantum_reg)\n",
    "                control1: position of the first control qbit (type:int)\n",
    "                control2: position of the second control qbit (type:int)\n",
    "                control3: position of the third control qbit (type:int)\n",
    "                target: position of the target qbit (type:int)\n",
    "        Returns:\n",
    "                an array with the matrix corresponding to the CCCZ gate.\n",
    "        \"\"\"\n",
    "        theta=np.pi/8\n",
    "        #--------------------------#\n",
    "        matrix=reg.p(control1,theta)\n",
    "\n",
    "        #--------------------------------#\n",
    "        matrix=matrix.dot(reg.cx(control1,control2))\n",
    "        matrix=matrix.dot(reg.p(control2,theta,1))\n",
    "        matrix=matrix.dot(reg.cx(control1,control2))\n",
    "        matrix=matrix.dot(reg.p(control2,theta))\n",
    "        #--------------------------------#\n",
    "        matrix=matrix.dot(reg.cx(control2,control3))\n",
    "        matrix=matrix.dot(reg.p(control3,theta,1))\n",
    "        matrix=matrix.dot(reg.cx(control1,control3))\n",
    "        matrix=matrix.dot(reg.p(control2,theta,0))\n",
    "        matrix=matrix.dot(reg.cx(control2,control3))\n",
    "        matrix=matrix.dot(reg.p(control3,theta,1))\n",
    "        matrix=matrix.dot(reg.cx(control1,control3))\n",
    "        matrix=matrix.dot(reg.p(control2,theta,0))\n",
    "\n",
    "        #---------------------------------#    \n",
    "        matrix=matrix.dot(reg.cx(control3,target))\n",
    "        matrix=matrix.dot(reg.p(target,theta,1))\n",
    "        matrix=matrix.dot(reg.cx(control1,target))    \n",
    "        matrix=matrix.dot(reg.p(target,theta))\n",
    "        matrix=matrix.dot(reg.cx(control2,target))  \n",
    "        matrix=matrix.dot(reg.p(target,theta,1)) \n",
    "        matrix=matrix.dot(reg.cx(control1,target))\n",
    "        matrix=matrix.dot(reg.p(target,theta))\n",
    "\n",
    "        matrix=matrix.dot(reg.cx(control3,target))\n",
    "        matrix=matrix.dot(reg.p(target,theta,1))\n",
    "        matrix=matrix.dot(reg.cx(control1,target))    \n",
    "        matrix=matrix.dot(reg.p(target,theta))\n",
    "        matrix=matrix.dot(reg.cx(control2,target))  \n",
    "        matrix=matrix.dot(reg.p(target,theta,1)) \n",
    "        matrix=matrix.dot(reg.cx(control1,target))\n",
    "        matrix=matrix.dot(reg.p(target,theta))\n",
    "        return matrix\n",
    "\n",
    "\n",
    "    def FADDa(self, a:int):\n",
    "        \"\"\" FADDa Gate method which creates the matrix of the gate which acts on the state n (pos) of the quantum register\n",
    "        \n",
    "        Parameters:\n",
    "                a: number to be added (type:int) \n",
    "        Returns:\n",
    "                an array with the matrix corresponding to the FADDa gate.\n",
    "        \"\"\"\n",
    "        n=self.length\n",
    "        conj=0\n",
    "        if a<0:conj=1;a=np.abs(a)\n",
    "        binary=np.flip(np.asarray([*(format(a, 'b').zfill(n))],dtype=int));\n",
    "        matrix=np.diag(np.ones(2**n))\n",
    "        for i in range(n):\n",
    "            for j in range(n-i):\n",
    "                if binary[j]==1:\n",
    "                    matrix=matrix.dot(self.p(i,2*np.pi/(2**(n-i-j)),conj));            \n",
    "        return matrix\n",
    "    \n",
    "    #///////////////////// Qbit Measument  //////////////////////#\n",
    "\n",
    "    def projection(self,qb:int,state:int):\n",
    "        \"\"\" Projection method which helps to measure the state of the qbit\n",
    "\n",
    "        Parameters:\n",
    "                qb: position of the qbit to be measured (type:int)\n",
    "                state: state to be measured (type:int)\n",
    "        Returns:\n",
    "                an array with the matrix corresponding to the projection of the state.        \n",
    "        \"\"\"\n",
    "        matrix=np.diag(np.zeros(2**self.length))\n",
    "        for i in range(2**self.length):\n",
    "            base=np.zeros(self.length,dtype=int)\n",
    "            bin_i=[*(str(bin(i))[2:])]\n",
    "            base[-len(bin_i):]=bin_i\n",
    "            bin_i=base;               \n",
    "            matrix[i,i]= int(bin_i[-1-qb]==state);\n",
    "            \n",
    "        return matrix\n",
    "    \n",
    "    def measure(self, qb:int):\n",
    "        \"\"\" Measure method which measures the state of the qbit\n",
    "\n",
    "        Parameters:\n",
    "                qb: position of the qbit to be measured (type:int)\n",
    "        Returns:\n",
    "                an int with the state of the qbit.\n",
    "        \"\"\"\n",
    "        projected=self.projection(qb,0).dot(self.tensor)\n",
    "        norm_projected= np.linalg.norm(projected) \n",
    "        if np.random.random()<norm_projected**2: \n",
    "            self.tensor=projected/norm_projected\n",
    "            return 0\n",
    "        else: \n",
    "            projected=self.projection(qb,1).dot(self.tensor)\n",
    "            self.tensor=projected/np.linalg.norm(projected)\n",
    "            return 1"
   ]
  },
  {
   "cell_type": "code",
   "execution_count": 43,
   "id": "ef7f25b7",
   "metadata": {},
   "outputs": [],
   "source": [
    "class Algorithms:    \n",
    "    \n",
    "    def __init__(self, register):\n",
    "        self.reg = register\n",
    "        \n",
    "\n",
    "    def grover_oracle_2qbit(self,states:list):\n",
    "        \"\"\" method that applies an oracle to a given quantum register for a certain specified state.\n",
    "        This method applies a grover's oracle to a 2 qbit quantum register.\n",
    "        Parameters:\n",
    "                reg: quantum register to which the grover's oracle matrix is going to be applied (type:quantum_reg)\n",
    "                state: List of string with the states which want to be found with grover's algorithm. \n",
    "        return: \n",
    "                an array with the matrix corresponding to the grover's oracle gate matrix representation.\n",
    "        \"\"\"\n",
    "        matrix=np.diag([1,1,1,1])\n",
    "        for state in states:\n",
    "            binary=np.array([*(state)],dtype=int)\n",
    "            positions=np.where(binary==0)[0];\n",
    "            for i in range(0,np.size(positions)):\n",
    "                pos=(np.size(binary)-1)-positions[i]\n",
    "                matrix=matrix.dot(self.reg.x(pos))\n",
    "            matrix=matrix.dot(self.reg.cz(0,1))\n",
    "            for i in range(np.size(positions)):\n",
    "                pos=(np.size(binary)-1)-positions[i]\n",
    "                matrix=matrix.dot(self.reg.x(pos))\n",
    "        return matrix\n",
    "\n",
    "\n",
    "    def grover_amplification_2qbit(self):\n",
    "        \"\"\" method that applies a  grover's amplification matrix to a given 2 qbit quantum register for a certain specified state.\n",
    "        This method applies a grover's amplification gate to a 2 qbit quantum register.\n",
    "\n",
    "        Parameters:\n",
    "                 reg: quantum register to which the grover's amplification matrix is going to be applied (type:quantum_reg)\n",
    "        return: \n",
    "            an array with the matrix corresponding to the grover's amplification gate matrix representation.\n",
    "        \"\"\"\n",
    "        matrix=np.diag([1,1,1,1])\n",
    "        for qb in range(self.reg.length):\n",
    "            matrix=matrix.dot(self.reg.h(qb));\n",
    "        for qb in range(self.reg.length):\n",
    "            matrix=matrix.dot(self.reg.x(qb));\n",
    "        matrix=matrix.dot(self.reg.cz(1,0))\n",
    "        for qb in range(self.reg.length):\n",
    "            matrix=matrix.dot(self.reg.x(qb));\n",
    "        for qb in range(self.reg.length):\n",
    "            matrix=matrix.dot(self.reg.h(qb));\n",
    "        return matrix \n",
    "    \n",
    "    \n",
    "    #----------------------------------------3 Qubit Grovers -----------------------------------------------------------\n",
    "    \n",
    "    def grover_oracle_3qbit(self,values:list):\n",
    "        \"\"\" method that applies an oracle to a given quantum register for a certain specified state.\n",
    "        This method applies a grover's oracle to a 3 qbit quantum register.\n",
    "        Parameters:\n",
    "                reg: quantum register to which the grover's oracle matrix is going to be applied (type:quantum_reg)\n",
    "                state: List of string with the states which want to be found with grover's algorithm. \n",
    "        return: \n",
    "                an array with the matrix corresponding to the grover's oracle gate matrix representation.\n",
    "        \"\"\"\n",
    "        matrix=np.diag(np.ones(2**3))\n",
    "        for state in values:\n",
    "            binary=np.array([*(state)],dtype=int)\n",
    "            positions=np.where(binary==0)[0];\n",
    "            for i in range(0,np.size(positions)):\n",
    "                pos=(np.size(binary)-1)-positions[i]\n",
    "                matrix=matrix.dot(self.reg.x(pos))\n",
    "            matrix=matrix.dot(self.reg.ccz(self.reg,2,1,0))\n",
    "            for i in range(np.size(positions)):\n",
    "                pos=(np.size(binary)-1)-positions[i]\n",
    "                matrix=matrix.dot(self.reg.x(pos))\n",
    "        return matrix\n",
    "\n",
    "\n",
    "    def grover_amplification_3qbit(self):\n",
    "        \"\"\" method that applies a  grover's amplification matrix to a given 3 qbit quantum register for a certain specified state.\n",
    "        This method applies a grover's amplification gate to a 3 qbit quantum register.\n",
    "        Parameters:\n",
    "                reg: quantum register to which the grover's amplification matrix is going to be applied (type:quantum_reg)\n",
    "        return: \n",
    "                an array with the matrix corresponding to the grover's amplification gate matrix representation.\n",
    "    \"\"\"\n",
    "        matrix=np.diag(np.ones(2**3))\n",
    "        for qb in range(self.reg.length):\n",
    "            matrix=matrix.dot(self.reg.h(qb));\n",
    "        for qb in range(self.reg.length):\n",
    "            matrix=matrix.dot(self.reg.x(qb));\n",
    "\n",
    "        matrix=matrix.dot(self.reg.ccz(reg,2,1,0))\n",
    "\n",
    "        for qb in range(self.reg.length):\n",
    "            matrix=matrix.dot(self.reg.x(qb));\n",
    "        for qb in range(self.reg.length):\n",
    "            matrix=matrix.dot(self.reg.h(qb));\n",
    "\n",
    "        return matrix \n",
    "    \n",
    "    #------------------------------------------4 Qubit Grovers ---------------------------------------------------\n",
    "    def grover_oracle_4qbit(self, values:list):\n",
    "        \"\"\" method that applies an oracle to a given quantum register for a certain specified state.\n",
    "        This method applies a grover's oracle to a 4 qbit quantum register.\n",
    "        Parameters:\n",
    "            reg: quantum register to which the grover's oracle matrix is going to be applied (type:quantum_reg)\n",
    "            state: List of string with the states which want to be found with grover's algorithm. \n",
    "        return: \n",
    "            an array with the matrix corresponding to the grover's oracle gate matrix representation.\n",
    "        \n",
    "        \"\"\"\n",
    "        matrix=np.diag(np.ones(2**4))\n",
    "        for state in values:\n",
    "            binary=np.array([*(state)],dtype=int)\n",
    "            positions=np.where(binary==0)[0];\n",
    "            for i in range(0,np.size(positions)):\n",
    "                pos=(np.size(binary)-1)-positions[i]\n",
    "                matrix=matrix.dot(self.reg.x(pos))\n",
    "            #print(self)\n",
    "            matrix=matrix.dot(self.reg.cccz(self.reg, 3,2,1,0))\n",
    "            #matrix=matrix.dot(cnz(reg,[3,2,1],0))\n",
    "\n",
    "            for i in range(np.size(positions)):\n",
    "                pos=(np.size(binary)-1)-positions[i]\n",
    "                matrix=matrix.dot(self.reg.x(pos))\n",
    "\n",
    "        return matrix\n",
    "\n",
    "\n",
    "    def grover_amplification_4qbit(self):\n",
    "        \"\"\" method that applies a  grover's amplification matrix to a given 4 qbit quantum register for a certain specified state.\n",
    "        This method applies a grover's amplification gate to a 4 qbit quantum register.\n",
    "        Parameters:\n",
    "            reg: quantum register to which the grover's amplification matrix is going to be applied (type:quantum_reg)\n",
    "        return: \n",
    "            an array with the matrix corresponding to the grover's amplification gate matrix representation.\n",
    "    \n",
    "        \"\"\"\n",
    "        matrix=np.diag(np.ones(2**4))\n",
    "        for qb in range(self.reg.length):\n",
    "            matrix=matrix.dot(self.reg.h(qb));\n",
    "        for qb in range(self.reg.length):\n",
    "            matrix=matrix.dot(self.reg.x(qb));\n",
    "\n",
    "        matrix=matrix.dot(self.reg.cccz(self.reg,3,2,1,0))\n",
    "        #matrix=matrix.dot(cnz(reg,[3,2,1],0))\n",
    "        for qb in range(self.reg.length):\n",
    "            matrix=matrix.dot(self.reg.x(qb));\n",
    "        for qb in range(self.reg.length):\n",
    "            matrix=matrix.dot(self.reg.h(qb));\n",
    "\n",
    "        return matrix \n",
    "    \n",
    "    #------------------------------------Shor's Algorithm----------------------------------------------------\n",
    "    def gcd(self, a, b):\n",
    "        \"\"\" method that calculates the greatest common divisor of two numbers.\n",
    "        \n",
    "        Parameters:\n",
    "            a: first number (type:int)\n",
    "            b: second number (type:int)\n",
    "\n",
    "        return:\n",
    "            an int with the greatest common divisor of a and b.\n",
    "        \"\"\"\n",
    "        while b != 0:\n",
    "            t = copy.copy(b)\n",
    "            b = a% b\n",
    "            a = copy.copy(t)\n",
    "        return a \n",
    "\n",
    "\n",
    "    def U(self, r, a:int,N:int,counting_qb:int):\n",
    "        \"\"\" method that creates the matrix of the gate which acts on the state n (pos) of the quantum register\n",
    "\n",
    "        This method applies the U gate to the state vector of the quantum register.\n",
    "\n",
    "        Parameters:\n",
    "            r: quantum register to which the U gate is going to be applied (type:quantum_reg)\n",
    "            a: number to be factorized (type:int)\n",
    "            N: number to be factorized (type:int)\n",
    "            counting_qb: number of counting qbits (type:int)\n",
    "        return:\n",
    "            an array with the matrix corresponding to the U gate.\n",
    "        \"\"\"\n",
    "        repetitions=1;\n",
    "        matrix=np.diag(np.ones(2**r.length))\n",
    "        #print(counting_qb)\n",
    "        for i in range(counting_qb):\n",
    "            for j in range(repetitions):\n",
    "                matrix=matrix.dot(r.cp(counting_qb,i,2*np.pi*a/((2**j)*N)));\n",
    "            repetitions*=2  \n",
    "        return matrix\n",
    "\n",
    "\n",
    "\n",
    "    def Shors(self, N, n, m):\n",
    "        \"\"\" method that applies shors algorithm to factorize numbers.\n",
    "    Parameters:\n",
    "        N: Number which is going to be factorized.\n",
    "    return: \n",
    "        an array with two factors of N.     \n",
    "    \"\"\"\n",
    "        #N = int(input(\"What number do you wish to factorise? \"))\n",
    "      \n",
    "    #Choosing a number between 2 and N-1  which is not already a factor of N\n",
    "        a=np.random.randint(2, N-1)\n",
    "        while self.gcd(a,N)!=1:\n",
    "            a=np.random.randint(2, N-1)\n",
    "        \n",
    "    #Determining the number of input and output qbits.\n",
    "        #n = int(np.ceil(np.log2(N)))\n",
    "        #m = 1\n",
    "        \n",
    "        \n",
    "    #Determining the number of experiments and measurements which are going to be done    \n",
    "        measures=[]\n",
    "        tot_measures=50\n",
    "        for k in range(tot_measures):  \n",
    "            reg = quantum_reg(n+m)\n",
    "            for i in range(n):\n",
    "                reg.h(i);\n",
    "            #Initializing the input qbits in state |1>\n",
    "            reg.x(n)\n",
    "\n",
    "            #Applying the controlled U^j gate to the input qbit  for each output qbit present.\n",
    "            self.U(reg, a,N,n);\n",
    "\n",
    "            #Applying the inverse Quantum Fourier Transform. \n",
    "            reg.icft(n);\n",
    "\n",
    "            #Mearusing the state of the output qbits and storing the result\n",
    "            value=[]\n",
    "            for i in range(n):\n",
    "                value.append(reg.measure(i));\n",
    "\n",
    "            measures.append(int(''.join(np.flip(np.array(value,dtype=str).tolist())), 2))\n",
    "\n",
    "\n",
    "        #Determining the possible values of r and the possible factors\n",
    "        labels, counts = np.unique(measures, return_counts=True)      \n",
    "        plt.bar(labels, counts, align='center')\n",
    "        plt.title(\"Likely state location of Period\")\n",
    "        plt.gca().set_xticks(labels)\n",
    "        plt.xticks(np.arange(0,2**(n), 2))\n",
    "        plt.ylabel('Counts')\n",
    "        plt.xlabel('State')\n",
    "\n",
    "        fractions = []\n",
    "        for i in range(len(labels)):\n",
    "            if counts[i]> tot_measures*0.1:\n",
    "                f = Fraction(labels[i]/2**n).limit_denominator(N)\n",
    "                r = f.denominator\n",
    "                fraction = self.gcd(N, int(a**(r/2)) +1)\n",
    "                fractions.append(fraction)\n",
    "\n",
    "        #Validating the possible factors found and returning the result. \n",
    "        r = 0\n",
    "        evaluations=0\n",
    "        while r == 0 and evaluations<N:\n",
    "            a = randint(2, N)\n",
    "            r = self.gcd(a, N)\n",
    "            for i in range(len(fractions)):\n",
    "                evaluations+=1\n",
    "                if r != 1 and r != N and r == fractions[i]:\n",
    "                    break\n",
    "                if i == len(fractions)-1:\n",
    "                    r = 0\n",
    "\n",
    "        if r < 2 or r == N :\n",
    "            return \"Failed to find factors\"\n",
    "        else:\n",
    "            return r, N // r\n",
    "\n",
    "    "
   ]
  },
  {
   "cell_type": "code",
   "execution_count": 2,
   "id": "1801b936",
   "metadata": {},
   "outputs": [],
   "source": [
    "import sys\n",
    "from PyQt5.uic import loadUi\n",
    "from PyQt5.QtWidgets import QMessageBox, QVBoxLayout, QApplication, QWidget, QPushButton, QComboBox, QSpinBox, QDoubleSpinBox, QLineEdit, QTextEdit\n",
    "\n",
    "class GUI(QWidget):\n",
    "    \"\"\"\n",
    "    This class is the main simulator. From here all functionality can be selected.\n",
    "    \"\"\"\n",
    "    def __init__(self):\n",
    "        super().__init__()\n",
    "        #Calling the main page interface\n",
    "        self.QCUI()\n",
    "\n",
    "    def QCUI(self):\n",
    "        #Creating the window\n",
    "        self.setGeometry(100, 100, 300, 200)\n",
    "        self.setWindowTitle('Simulator')\n",
    "\n",
    "        #Buttons for each algorithm, plus an extra that takes the user to a help page\n",
    "        Grovers = QPushButton('Grovers', self)\n",
    "        Grovers.clicked.connect(self.Grov_alg)\n",
    "        Grovers.move(50, 50)\n",
    "\n",
    "        Shor_search = QPushButton('Shor Search', self)\n",
    "        Shor_search.clicked.connect(self.Shor_search_alg)\n",
    "        Shor_search.move(150, 50)\n",
    "\n",
    "\n",
    "        Help = QPushButton('Help', self)\n",
    "        Help.clicked.connect(self.Help_alg)\n",
    "        Help.move(150, 100)\n",
    "\n",
    "        #Show the interface\n",
    "        self.show()\n",
    "\n",
    "    #All the methods we need for the emulator\n",
    "    def Grov_alg(self):\n",
    "        \"\"\" method that creates the window for the grover's algorithm.\"\"\"\n",
    "        self.grov_window = GrovWindow()\n",
    "\n",
    "    def Shor_search_alg(self):\n",
    "        \"\"\" method that creates the window for the shor's algorithm.\"\"\"\n",
    "        self.shor_window = ShorWindow()       \n",
    "\n",
    "    def Help_alg(self):\n",
    "        \"\"\" method that creates the window for the help page.\"\"\"\n",
    "        self.help_window = HelpWindow()"
   ]
  },
  {
   "cell_type": "code",
   "execution_count": 3,
   "id": "0d453b2d",
   "metadata": {},
   "outputs": [],
   "source": [
    "class ShorWindow(QWidget):\n",
    "    def __init__(self):\n",
    "        super().__init__()\n",
    "        self.Win()\n",
    "        \n",
    "    def Win(self):\n",
    "        \"\"\" method that creates the window for the shor's algorithm.\"\"\"\n",
    "        self.setGeometry(100, 100, 300, 200)\n",
    "        self.setWindowTitle(\"Shor's Algorithm\")\n",
    "        \n",
    "        ShorQ = QPushButton(\"Run Shor's\", self)\n",
    "        ShorQ.clicked.connect(self.ShorQ_click)\n",
    "        \n",
    "        button_layout = QVBoxLayout()\n",
    "        button_layout.addWidget(ShorQ)\n",
    "        \n",
    "        layout = QVBoxLayout()\n",
    "        layout.addLayout(button_layout)\n",
    "        \n",
    "        self.show()\n",
    "        \n",
    "    def ShorQ_click(self):\n",
    "        \"\"\" method that runs the shor's algorithm.\"\"\"\n",
    "        N = int(input(\"Which number do you wish to factorise\"))\n",
    "        n = int(np.ceil(np.log2(N)))\n",
    "        m = 1\n",
    "\n",
    "        Algs = Algorithms(quantum_reg(n+m))\n",
    "        f = False\n",
    "        while f == False:\n",
    "            if Algs.Shors(N, n, m) == (5, 3):\n",
    "                print(\"(5, 3)\")\n",
    "                f = True\n",
    "            elif Algs.Shors(N, n, m) == (3, 5):\n",
    "                print(\"(3, 5)\")\n",
    "                f = True"
   ]
  },
  {
   "cell_type": "code",
   "execution_count": 36,
   "id": "4801ecfb",
   "metadata": {},
   "outputs": [],
   "source": [
    "class GrovWindow(QWidget):\n",
    "    def __init__(self):\n",
    "        super().__init__()\n",
    "        self.Win()\n",
    "\n",
    "    def Win(self):\n",
    "        \"\"\" method that creates the window for the grover's algorithm.\"\"\"\n",
    "        self.setGeometry(100, 100, 300, 200)\n",
    "        self.setWindowTitle(\"Grover's Algorithm\")\n",
    "        \n",
    "        TwoQ = QPushButton(\"2-Qubit Search\", self)\n",
    "        ThreeQ = QPushButton(\"3-Qubit Search\", self)\n",
    "        FourQ = QPushButton(\"4-Qubit Search\", self)\n",
    "        \n",
    "        TwoQ.clicked.connect(self.TwoQ_click)\n",
    "        ThreeQ.clicked.connect(self.ThreeQ_click)\n",
    "        FourQ.clicked.connect(self.FourQ_click)\n",
    "        \n",
    "        button_layout = QVBoxLayout()\n",
    "        button_layout.addWidget(TwoQ)\n",
    "        button_layout.addWidget(ThreeQ)\n",
    "        button_layout.addWidget(FourQ)\n",
    "        \n",
    "        layout = QVBoxLayout()\n",
    "        layout.addLayout(button_layout)\n",
    "        \n",
    "        self.show()\n",
    "        \n",
    "    def TwoQ_click(self):\n",
    "        \"\"\" method that runs the grover's algorithm for 2 qubits.\"\"\"\n",
    "        reg=quantum_reg(2)\n",
    "        Algs = Algorithms(reg)\n",
    "        Algs.reg.tensor\n",
    "        \n",
    "        for qb in range(reg.length):\n",
    "            Algs.reg.h(qb);\n",
    "        Algs.reg.tensor\n",
    "        \n",
    "        N = [input(\"What is your target state? \")]\n",
    "        Algs.grover_oracle_2qbit(N)\n",
    "        Algs.reg.tensor\n",
    "        \n",
    "        Algs.grover_amplification_2qbit()\n",
    "        Algs.reg.tensor\n",
    "        \n",
    "    def ThreeQ_click(self):\n",
    "        \"\"\" method that runs the grover's algorithm for 3 qubits.\"\"\"\n",
    "        reg=quantum_reg(3)\n",
    "        Algs = Algorithms(reg)\n",
    "        Algs.reg.tensor\n",
    "        \n",
    "        for qb in range(Algs.reg.length):\n",
    "            Algs.reg.h(qb);\n",
    "        Algs.reg.tensor\n",
    "\n",
    "        N = [input(\"What is your target state? \")]\n",
    "        Algs.grover_oracle_3qbit(N)\n",
    "        Algs.reg.tensor\n",
    "    \n",
    "        Algs.grover_amplification_3qbit()\n",
    "        Algs.reg.tensor\n",
    "    \n",
    "        Algs.grover_oracle_3qbit(N)\n",
    "        Algs.reg.tensor\n",
    "        Algs.grover_amplification_3qbit()\n",
    "        Algs.reg.tensor\n",
    "\n",
    "    def FourQ_click(self):\n",
    "        \"\"\" method that runs the grover's algorithm for 4 qubits.\"\"\"\n",
    "        reg=quantum_reg(4)\n",
    "        Algs = Algorithms(reg)\n",
    "        Algs.reg.tensor\n",
    "        \n",
    "        for qb in range(Algs.reg.length):\n",
    "            Algs.reg.h(qb);\n",
    "        Algs.reg.tensor\n",
    "\n",
    "        N = [input(\"What is your target state? \")]\n",
    "        Algs.grover_oracle_4qbit(N)\n",
    "        Algs.reg.tensor\n",
    "\n",
    "        Algs.grover_amplification_4qbit()\n",
    "        Algs.reg.tensor\n",
    "\n",
    "        Algs.grover_oracle_4qbit(N)\n",
    "        Algs.reg.tensor\n",
    "\n",
    "        Algs.grover_amplification_4qbit()\n",
    "        Algs.reg.tensor\n",
    "\n",
    "        Algs.grover_oracle_4qbit(N)\n",
    "        Algs.reg.tensor\n",
    "\n",
    "        Algs.grover_amplification_4qbit()\n",
    "        Algs.reg.tensor\n"
   ]
  },
  {
   "cell_type": "code",
   "execution_count": 4,
   "id": "c3b2e42b",
   "metadata": {},
   "outputs": [],
   "source": [
    "#Open up the help page\n",
    "class HelpWindow(QWidget):\n",
    "    def __init__(self):\n",
    "        super().__init__()\n",
    "        self.Win()\n",
    "\n",
    "    def Win(self):\n",
    "        \"\"\" method that creates the window for the help page.\"\"\"\n",
    "        \n",
    "        #Creating the help page\n",
    "        self.setGeometry(100, 100, 300, 200)\n",
    "        self.setWindowTitle('Help')\n",
    "\n",
    "        #Create the help buttons\n",
    "        Q = QPushButton(\"Qubit\", self)\n",
    "        R = QPushButton(\"Register\", self)\n",
    "        H = QPushButton(\"H-gate\", self)\n",
    "        X = QPushButton(\"X-gate\", self)\n",
    "        Y = QPushButton(\"Y-gate\", self)\n",
    "        Z = QPushButton(\"Z-gate\", self)\n",
    "        CNOT = QPushButton(\"CNOT-gate\", self)\n",
    "        T = QPushButton(\"T-gate\", self)\n",
    "        Grov = QPushButton(\"Grovers Alogorithm\", self)\n",
    "        Shor = QPushButton(\"Shors Algorithm\", self)\n",
    "        Err = QPushButton(\"Error Correction\", self)\n",
    "\n",
    "        #Connecting buttons to their respective information text box\n",
    "        Q.clicked.connect(self.Q_click)\n",
    "        R.clicked.connect(self.R_click)\n",
    "        H.clicked.connect(self.H_click)\n",
    "        X.clicked.connect(self.X_click)\n",
    "        Y.clicked.connect(self.Y_click)\n",
    "        Z.clicked.connect(self.Z_click)\n",
    "        CNOT.clicked.connect(self.CNOT_click)\n",
    "        T.clicked.connect(self.T_click)\n",
    "        Grov.clicked.connect(self.Grov_click)\n",
    "        Shor.clicked.connect(self.Shor_click)\n",
    "        Err.clicked.connect(self.Err_click)\n",
    "\n",
    "        #creating a layout for the buttons\n",
    "        button_layout = QVBoxLayout()\n",
    "        button_layout.addWidget(Q)\n",
    "        button_layout.addWidget(R)\n",
    "        button_layout.addWidget(H)\n",
    "        button_layout.addWidget(X)\n",
    "        button_layout.addWidget(Y)\n",
    "        button_layout.addWidget(Z)\n",
    "        button_layout.addWidget(CNOT)\n",
    "        button_layout.addWidget(T)\n",
    "        button_layout.addWidget(Grov)\n",
    "        button_layout.addWidget(Shor)\n",
    "        button_layout.addWidget(Err)\n",
    "        \n",
    "        #placing the layout on the empty window\n",
    "        layout = QVBoxLayout()\n",
    "        layout.addLayout(button_layout)\n",
    "\n",
    "        #showing the window\n",
    "        self.setLayout(layout)\n",
    "        self.show()\n",
    "\n",
    "    #When a button is pressed, it will display a brief description about the function/theory\n",
    "    def Q_click(self):\n",
    "        QMessageBox.information(self, \"Qubit\", \"A qubit is the unit of quantum information. It exists in two states at once, which means it can perform multiple calculations at the same time.\")\n",
    "\n",
    "    def R_click(self):\n",
    "        QMessageBox.information(self, \"Register\", \"A quantum register is a collection of qubits. The number of qubits determines the amount of information that can be stored. Storing qubits in a register allows for them to be measured and manipulated independently\")\n",
    "\n",
    "    def H_click(self):\n",
    "        QMessageBox.information(self, \"Hadamard Gate\", \"The hadamard gate is applied to individual qubits. It forces it into superposition where the two basis states have equal probability. See more: https://qiskit.org/textbook/ch-states/single-qubit-gates.html#hgate\")\n",
    "                                \n",
    "    def X_click(self):\n",
    "        QMessageBox.information(self, \"X Gate\", \"The X gate flips the state of a qubit, i.e from 0 to 1. Also known as a NOT gate. See more: https://qiskit.org/textbook/ch-states/single-qubit-gates.html#xgate\")\n",
    "                                \n",
    "    def Y_click(self):\n",
    "        QMessageBox.information(self, \"Y Gate\", \"The Y gate rotates the state of a qubit around the y-axis of the Bloch Sphere. This gives a combination of basis states. See more: https://qiskit.org/textbook/ch-states/single-qubit-gates.html#ynzgatez\")\n",
    "    \n",
    "    def Z_click(self):\n",
    "        QMessageBox.information(self, \"Z Gate\", \"The Z gate flips the phase of a qubit, rotating its state around the z-axis of the Bloch Sphere. See more:  https://qiskit.org/textbook/ch-states/single-qubit-gates.html#ynzgatez\")\n",
    "                                \n",
    "    def CNOT_click(self):\n",
    "        QMessageBox.information(self, \"CNOT Gate\", \"The CNOT gate is similar to the X gate, except it only applies on the qubit if it is in state |1>. See more: https://qiskit.org/textbook/ch-gates/multiple-qubits-entangled-states.html#cnot\")\n",
    "                                \n",
    "    def T_click(self):\n",
    "        QMessageBox.information(self, \"T-Gate\", \"The T gate is similar to a Z-gate, however here the qubit state is only rotated a quarter turn around the Z-axis. See more: https://qiskit.org/textbook/ch-states/single-qubit-gates.html#tgate\")\n",
    "                    \n",
    "    def Grov_click(self):\n",
    "        QMessageBox.information(self, \"Grovers Algorithm\", \"Grover's algorithm is used to quickly search an unsorted database. It does so considerably faster than classical computer algorithms. It works by creating a superposition of all possible states via a Hadamard gate. It then applies a series of operations to amplify the probability of the desired state. This is done until the desired state is found with high probability. See here: https://qiskit.org/textbook/ch-algorithms/grover.html\")\n",
    "\n",
    "    def Shor_click(self):\n",
    "        QMessageBox.information(self, \"Shors Algorithm\", \"Shors algorithm is used to find the prime factors of an integer, it works via exploiting periodicity and using a quantum fourier transform. It is very useful for breaking encryption. See more: https://qiskit.org/textbook/ch-algorithms/shor.html\")\n",
    "    \n",
    "    def Err_click(self):\n",
    "        QMessageBox.information(self, \"Error Correction\", \"Algorithm used to protect against common types of errors in quantum systems. See more: https://qiskit.org/textbook/ch-quantum-hardware/error-correction-repetition-code.html\")\n",
    "       \n"
   ]
  },
  {
   "cell_type": "markdown",
   "metadata": {},
   "source": [
    "## Tests"
   ]
  },
  {
   "cell_type": "code",
   "execution_count": 49,
   "id": "116caaae",
   "metadata": {},
   "outputs": [
    {
     "data": {
      "text/plain": [
       "array([1.+0.j, 0.+0.j, 0.+0.j, 0.+0.j, 0.+0.j, 0.+0.j, 0.+0.j, 0.+0.j,\n",
       "       0.+0.j, 0.+0.j, 0.+0.j, 0.+0.j, 0.+0.j, 0.+0.j, 0.+0.j, 0.+0.j])"
      ]
     },
     "execution_count": 49,
     "metadata": {},
     "output_type": "execute_result"
    }
   ],
   "source": [
    "reg=quantum_reg(4)\n",
    "Algs = Algorithms(reg)\n",
    "Algs.reg.tensor"
   ]
  },
  {
   "cell_type": "code",
   "execution_count": 50,
   "id": "21618f16",
   "metadata": {},
   "outputs": [
    {
     "data": {
      "text/plain": [
       "array([0.25+0.j, 0.25+0.j, 0.25+0.j, 0.25+0.j, 0.25+0.j, 0.25+0.j,\n",
       "       0.25+0.j, 0.25+0.j, 0.25+0.j, 0.25+0.j, 0.25+0.j, 0.25+0.j,\n",
       "       0.25+0.j, 0.25+0.j, 0.25+0.j, 0.25+0.j])"
      ]
     },
     "execution_count": 50,
     "metadata": {},
     "output_type": "execute_result"
    }
   ],
   "source": [
    "for qb in range(Algs.reg.length):\n",
    "    Algs.reg.h(qb);\n",
    "Algs.reg.tensor\n",
    "\n"
   ]
  },
  {
   "cell_type": "code",
   "execution_count": 51,
   "id": "58b849d3",
   "metadata": {},
   "outputs": [
    {
     "name": "stdout",
     "output_type": "stream",
     "text": [
      "What is your target state? 0000\n"
     ]
    },
    {
     "data": {
      "text/plain": [
       "array([-0.25      +9.93077150e-17j,  0.25      -3.06161700e-17j,\n",
       "        0.1767767 +1.76776695e-01j,  0.1767767 +1.76776695e-01j,\n",
       "        0.23096988-9.56708581e-02j,  0.23096988-9.56708581e-02j,\n",
       "        0.23096988-9.56708581e-02j,  0.23096988-9.56708581e-02j,\n",
       "        0.23096988+9.56708581e-02j,  0.23096988+9.56708581e-02j,\n",
       "        0.23096988+9.56708581e-02j,  0.23096988+9.56708581e-02j,\n",
       "        0.1767767 -1.76776695e-01j,  0.1767767 -1.76776695e-01j,\n",
       "        0.25      +0.00000000e+00j,  0.25      +0.00000000e+00j])"
      ]
     },
     "execution_count": 51,
     "metadata": {},
     "output_type": "execute_result"
    }
   ],
   "source": [
    "N = [input(\"What is your target state? \")]\n",
    "Algs.grover_oracle_4qbit(N)\n",
    "Algs.reg.tensor\n"
   ]
  },
  {
   "cell_type": "code",
   "execution_count": 52,
   "id": "1f710256",
   "metadata": {},
   "outputs": [
    {
     "data": {
      "text/plain": [
       "array([-0.50856695+1.24320230e-02j, -0.06420872+1.24320230e-02j,\n",
       "       -0.19435823+2.51708718e-01j, -0.19435823+1.63320371e-01j,\n",
       "       -0.15603786-2.51708718e-01j, -0.15603786-6.76495125e-02j,\n",
       "       -0.25514951-1.21559206e-01j, -0.21853786-1.21559206e-01j,\n",
       "       -0.08838835+8.83883476e-02j, -0.08838835+8.11058372e-02j,\n",
       "       -0.1875    +8.32388351e-02j, -0.15088835+8.32388351e-02j,\n",
       "       -0.1875    -1.50888348e-01j, -0.20508154-1.50888348e-01j,\n",
       "       -0.19993202+8.83883476e-02j, -0.19993202+8.83177008e-17j])"
      ]
     },
     "execution_count": 52,
     "metadata": {},
     "output_type": "execute_result"
    }
   ],
   "source": [
    "Algs.grover_amplification_4qbit()\n",
    "Algs.reg.tensor\n"
   ]
  },
  {
   "cell_type": "code",
   "execution_count": 53,
   "id": "563cf2cf",
   "metadata": {},
   "outputs": [
    {
     "data": {
      "text/plain": [
       "array([ 0.50856695-1.24320230e-02j, -0.06420872+1.24320230e-02j,\n",
       "       -0.31541696+4.05529186e-02j, -0.25291696-2.19470814e-02j,\n",
       "       -0.24048494-1.72835429e-01j, -0.17004853-2.78689609e-03j,\n",
       "       -0.28224611-1.46645710e-02j, -0.24842135-2.86752437e-02j,\n",
       "       -0.11548494+4.78354290e-02j, -0.11269805+4.11072667e-02j,\n",
       "       -0.20508154+5.14951252e-03j, -0.17125678+1.91601853e-02j,\n",
       "       -0.2392767 +2.58883476e-02j, -0.25170872+3.83203706e-02j,\n",
       "       -0.19993202+8.83883476e-02j, -0.19993202+6.86915451e-17j])"
      ]
     },
     "execution_count": 53,
     "metadata": {},
     "output_type": "execute_result"
    }
   ],
   "source": [
    "Algs.grover_oracle_4qbit(N)\n",
    "Algs.reg.tensor\n",
    "\n"
   ]
  },
  {
   "cell_type": "code",
   "execution_count": 54,
   "id": "608e24d6",
   "metadata": {},
   "outputs": [
    {
     "data": {
      "text/plain": [
       "array([0.83188464-0.01658543j, 0.23887061+0.01991431j,\n",
       "       0.02856917-0.13292473j, 0.10143033-0.05799271j,\n",
       "       0.07594223+0.12281723j, 0.13404684+0.04050314j,\n",
       "       0.0604233 -0.07068664j, 0.09703495-0.07083665j,\n",
       "       0.1767626 +0.04050314j, 0.17712474+0.00930292j,\n",
       "       0.11340824-0.00818664j, 0.15992693-0.00636602j,\n",
       "       0.05652013+0.06665341j, 0.04884563+0.06577911j,\n",
       "       0.12768083-0.05920095j, 0.13207621-0.00818664j])"
      ]
     },
     "execution_count": 54,
     "metadata": {},
     "output_type": "execute_result"
    }
   ],
   "source": [
    "Algs.grover_amplification_4qbit()\n",
    "Algs.reg.tensor\n"
   ]
  },
  {
   "cell_type": "code",
   "execution_count": 55,
   "id": "c9a33dec",
   "metadata": {},
   "outputs": [
    {
     "data": {
      "text/plain": [
       "array([-0.83188464+0.01658543j,  0.23887061+0.01991431j,\n",
       "        0.11419343-0.07379052j,  0.11272911+0.03071504j,\n",
       "        0.11716159+0.08440649j,  0.13934302-0.01387748j,\n",
       "        0.02877324-0.08842894j,  0.06254059-0.1025782j ,\n",
       "        0.14780746+0.10506414j,  0.16008185+0.07637748j,\n",
       "        0.10790844+0.03583598j,  0.15018939+0.05531995j,\n",
       "        0.08709684+0.00716531j,  0.08105193+0.01197378j,\n",
       "        0.12768083-0.05920095j,  0.13207621-0.00818664j])"
      ]
     },
     "execution_count": 55,
     "metadata": {},
     "output_type": "execute_result"
    }
   ],
   "source": [
    "Algs.grover_oracle_4qbit(N)\n",
    "Algs.reg.tensor"
   ]
  },
  {
   "cell_type": "code",
   "execution_count": 56,
   "id": "1d27c1f8",
   "metadata": {},
   "outputs": [
    {
     "name": "stdout",
     "output_type": "stream",
     "text": [
      "[-0.90736749-3.30635233e-03j  0.11326601+7.34209990e-03j\n",
      "  0.03171821+7.88960018e-02j  0.03971613-1.57206310e-02j\n",
      " -0.02061384-2.82243671e-01j -0.00133015+2.36153386e-02j\n",
      " -0.09491607-9.69344684e-02j -0.04860444-1.16292469e-01j\n",
      "  0.01130418+8.85205005e-02j  0.02086874+4.66054555e-02j\n",
      " -0.02738787+2.30327487e-02j  0.04725952+3.69902164e-02j\n",
      " -0.06624465-2.81737745e-04j -0.06707852+7.94240824e-03j\n",
      " -0.0033752 +1.22658737e-01j -0.00283449-1.81193586e-02j]\n"
     ]
    }
   ],
   "source": [
    "Algs.grover_amplification_4qbit()\n",
    "print(Algs.reg.tensor)\n"
   ]
  },
  {
   "cell_type": "markdown",
   "id": "e29d8627",
   "metadata": {},
   "source": [
    "## 3 QUBIT"
   ]
  },
  {
   "cell_type": "code",
   "execution_count": 44,
   "id": "d1da3d8a",
   "metadata": {},
   "outputs": [
    {
     "data": {
      "text/plain": [
       "array([1.+0.j, 0.+0.j, 0.+0.j, 0.+0.j, 0.+0.j, 0.+0.j, 0.+0.j, 0.+0.j])"
      ]
     },
     "execution_count": 44,
     "metadata": {},
     "output_type": "execute_result"
    }
   ],
   "source": [
    "reg=quantum_reg(3)\n",
    "Algs = Algorithms(reg)\n",
    "Algs.reg.tensor"
   ]
  },
  {
   "cell_type": "code",
   "execution_count": 45,
   "id": "b3a8b2b8",
   "metadata": {},
   "outputs": [
    {
     "data": {
      "text/plain": [
       "array([0.35355339+0.j, 0.35355339+0.j, 0.35355339+0.j, 0.35355339+0.j,\n",
       "       0.35355339+0.j, 0.35355339+0.j, 0.35355339+0.j, 0.35355339+0.j])"
      ]
     },
     "execution_count": 45,
     "metadata": {},
     "output_type": "execute_result"
    }
   ],
   "source": [
    "for qb in range(Algs.reg.length):\n",
    "    Algs.reg.h(qb);\n",
    "Algs.reg.tensor\n",
    "\n"
   ]
  },
  {
   "cell_type": "code",
   "execution_count": 46,
   "id": "b1fc3fb1",
   "metadata": {},
   "outputs": [
    {
     "name": "stdout",
     "output_type": "stream",
     "text": [
      "What is your target state? 000\n"
     ]
    },
    {
     "data": {
      "text/plain": [
       "array([-0.35355339+2.68671287e-16j,  0.35355339-4.32978028e-17j,\n",
       "        0.35355339-4.32978028e-17j,  0.35355339+0.00000000e+00j,\n",
       "        0.35355339-4.32978028e-17j,  0.35355339-4.35788200e-33j,\n",
       "        0.35355339-4.35788200e-33j,  0.35355339+0.00000000e+00j])"
      ]
     },
     "execution_count": 46,
     "metadata": {},
     "output_type": "execute_result"
    }
   ],
   "source": [
    "N = [input(\"What is your target state? \")]\n",
    "Algs.grover_oracle_3qbit(N)\n",
    "Algs.reg.tensor\n"
   ]
  },
  {
   "cell_type": "code",
   "execution_count": 47,
   "id": "db28cd3c",
   "metadata": {},
   "outputs": [
    {
     "data": {
      "text/plain": [
       "array([-0.88388348+5.01222169e-16j, -0.1767767 +1.48463716e-16j,\n",
       "       -0.1767767 +1.48463716e-16j, -0.1767767 +1.51996857e-16j,\n",
       "       -0.1767767 +1.48463716e-16j, -0.1767767 +1.51996857e-16j,\n",
       "       -0.1767767 +1.51996857e-16j, -0.1767767 +1.13256896e-16j])"
      ]
     },
     "execution_count": 47,
     "metadata": {},
     "output_type": "execute_result"
    }
   ],
   "source": [
    "Algs.grover_amplification_3qbit()\n",
    "Algs.reg.tensor"
   ]
  },
  {
   "cell_type": "code",
   "execution_count": 48,
   "id": "b633481d",
   "metadata": {},
   "outputs": [
    {
     "data": {
      "text/plain": [
       "array([ 0.97227182-1.18518066e-15j, -0.08838835+1.36192701e-16j,\n",
       "       -0.08838835+1.36192701e-16j, -0.08838835+1.71046831e-16j,\n",
       "       -0.08838835+1.36192701e-16j, -0.08838835+1.71046831e-16j,\n",
       "       -0.08838835+1.71046831e-16j, -0.08838835+1.57841603e-16j])"
      ]
     },
     "execution_count": 48,
     "metadata": {},
     "output_type": "execute_result"
    }
   ],
   "source": [
    "Algs.grover_oracle_3qbit(N)\n",
    "Algs.reg.tensor\n",
    "Algs.grover_amplification_3qbit()\n",
    "Algs.reg.tensor"
   ]
  },
  {
   "cell_type": "markdown",
   "id": "8db5d13c",
   "metadata": {},
   "source": [
    "## 2Qubit"
   ]
  },
  {
   "cell_type": "code",
   "execution_count": 39,
   "id": "4514868d",
   "metadata": {},
   "outputs": [
    {
     "data": {
      "text/plain": [
       "array([1.+0.j, 0.+0.j, 0.+0.j, 0.+0.j])"
      ]
     },
     "execution_count": 39,
     "metadata": {},
     "output_type": "execute_result"
    }
   ],
   "source": [
    "reg=quantum_reg(2)\n",
    "Algs = Algorithms(reg)\n",
    "Algs.reg.tensor"
   ]
  },
  {
   "cell_type": "code",
   "execution_count": 40,
   "id": "52766238",
   "metadata": {},
   "outputs": [
    {
     "data": {
      "text/plain": [
       "array([0.5+0.j, 0.5+0.j, 0.5+0.j, 0.5+0.j])"
      ]
     },
     "execution_count": 40,
     "metadata": {},
     "output_type": "execute_result"
    }
   ],
   "source": [
    "for qb in range(reg.length):\n",
    "    Algs.reg.h(qb);\n",
    "\n",
    "Algs.reg.tensor"
   ]
  },
  {
   "cell_type": "code",
   "execution_count": 41,
   "id": "c2deece1",
   "metadata": {},
   "outputs": [
    {
     "name": "stdout",
     "output_type": "stream",
     "text": [
      "What is your target state? 00\n",
      "['00']\n"
     ]
    },
    {
     "data": {
      "text/plain": [
       "array([-0.5+1.2246468e-16j,  0.5-6.1232340e-17j,  0.5-6.1232340e-17j,\n",
       "        0.5+0.0000000e+00j])"
      ]
     },
     "execution_count": 41,
     "metadata": {},
     "output_type": "execute_result"
    }
   ],
   "source": [
    "N = [input(\"What is your target state? \")]\n",
    "print(N)\n",
    "Algs.grover_oracle_2qbit(N)\n",
    "Algs.reg.tensor"
   ]
  },
  {
   "cell_type": "code",
   "execution_count": 42,
   "id": "8ab908de",
   "metadata": {},
   "outputs": [
    {
     "data": {
      "text/plain": [
       "array([-1.+2.44929360e-16j,  0.-2.46519033e-32j,  0.+0.00000000e+00j,\n",
       "        0.+0.00000000e+00j])"
      ]
     },
     "execution_count": 42,
     "metadata": {},
     "output_type": "execute_result"
    }
   ],
   "source": [
    "Algs.grover_amplification_2qbit()\n",
    "Algs.reg.tensor"
   ]
  },
  {
   "cell_type": "markdown",
   "id": "f0c07b38",
   "metadata": {},
   "source": [
    "## Shors"
   ]
  },
  {
   "cell_type": "code",
   "execution_count": 28,
   "id": "d02fbba7",
   "metadata": {},
   "outputs": [
    {
     "name": "stdout",
     "output_type": "stream",
     "text": [
      "Which number do you wish to factorise15\n",
      "(5, 3)\n"
     ]
    },
    {
     "data": {
      "image/png": "[encoded data removed]",
      "text/plain": [
       "<Figure size 432x288 with 1 Axes>"
      ]
     },
     "metadata": {
      "needs_background": "light"
     },
     "output_type": "display_data"
    }
   ],
   "source": [
    "N = int(input(\"Which number do you wish to factorise\"))\n",
    "n = int(np.ceil(np.log2(N)))\n",
    "m = 1\n",
    "\n",
    "Algs = Algorithms(quantum_reg(n+m))\n",
    "f = False\n",
    "while f == False:\n",
    "    if Algs.Shors(N, n, m) == (5, 3):\n",
    "        print(\"(5, 3)\")\n",
    "        f = True\n",
    "    elif Algs.Shors(N, n, m) == (3, 5):\n",
    "        print(\"(3, 5)\")\n",
    "        f = True"
   ]
  },
  {
   "cell_type": "markdown",
   "id": "a6351f72",
   "metadata": {},
   "source": [
    "## Visualisations"
   ]
  },
  {
   "cell_type": "code",
   "execution_count": 37,
   "id": "069926a8",
   "metadata": {},
   "outputs": [
    {
     "data": {
      "text/plain": [
       "array([0.83188464-0.01658543j, 0.23887061+0.01991431j,\n",
       "       0.02856917-0.13292473j, 0.10143033-0.05799271j,\n",
       "       0.07594223+0.12281723j, 0.13404684+0.04050314j,\n",
       "       0.0604233 -0.07068664j, 0.09703495-0.07083665j,\n",
       "       0.1767626 +0.04050314j, 0.17712474+0.00930292j,\n",
       "       0.11340824-0.00818664j, 0.15992693-0.00636602j,\n",
       "       0.05652013+0.06665341j, 0.04884563+0.06577911j,\n",
       "       0.12768083-0.05920095j, 0.13207621-0.00818664j])"
      ]
     },
     "execution_count": 37,
     "metadata": {},
     "output_type": "execute_result"
    }
   ],
   "source": [
    "grover_amplification_4qbit(reg)\n",
    "reg.tensor\n"
   ]
  },
  {
   "cell_type": "code",
   "execution_count": 38,
   "id": "e5e6f36b",
   "metadata": {},
   "outputs": [
    {
     "data": {
      "text/plain": [
       "(0.0, 1.0)"
      ]
     },
     "execution_count": 38,
     "metadata": {},
     "output_type": "execute_result"
    },
    {
     "data": {
      "image/png": "[encoded data removed]",
      "text/plain": [
       "<Figure size 432x288 with 1 Axes>"
      ]
     },
     "metadata": {
      "needs_background": "light"
     },
     "output_type": "display_data"
    }
   ],
   "source": [
    "states = [1, 2, 3, 4, 5, 6, 7, 8, 9, 10, 11, 12, 13, 14, 15, 16]\n",
    "plt.bar(states, np.abs(reg.tensor)**2)\n",
    "plt.xlabel('State')\n",
    "plt.title('Probability of state after amplitude amplification (3qubit)')\n",
    "plt.xticks(np.arange(1, len(states) + 1, 1))\n",
    "plt.ylabel('Probability')\n",
    "plt.ylim(0, 1)"
   ]
  },
  {
   "cell_type": "code",
   "execution_count": 39,
   "id": "95963a7f",
   "metadata": {},
   "outputs": [
    {
     "data": {
      "text/plain": [
       "array([-0.83188464+0.01658543j,  0.23887061+0.01991431j,\n",
       "        0.11419343-0.07379052j,  0.11272911+0.03071504j,\n",
       "        0.11716159+0.08440649j,  0.13934302-0.01387748j,\n",
       "        0.02877324-0.08842894j,  0.06254059-0.1025782j ,\n",
       "        0.14780746+0.10506414j,  0.16008185+0.07637748j,\n",
       "        0.10790844+0.03583598j,  0.15018939+0.05531995j,\n",
       "        0.08709684+0.00716531j,  0.08105193+0.01197378j,\n",
       "        0.12768083-0.05920095j,  0.13207621-0.00818664j])"
      ]
     },
     "execution_count": 39,
     "metadata": {},
     "output_type": "execute_result"
    }
   ],
   "source": [
    "grover_oracle_4qbit(reg,['0000'])\n",
    "reg.tensor"
   ]
  },
  {
   "cell_type": "code",
   "execution_count": 40,
   "id": "1dab94f3",
   "metadata": {},
   "outputs": [
    {
     "data": {
      "text/plain": [
       "array([-0.90736749-3.30635233e-03j,  0.11326601+7.34209990e-03j,\n",
       "        0.03171821+7.88960018e-02j,  0.03971613-1.57206310e-02j,\n",
       "       -0.02061384-2.82243671e-01j, -0.00133015+2.36153386e-02j,\n",
       "       -0.09491607-9.69344684e-02j, -0.04860444-1.16292469e-01j,\n",
       "        0.01130418+8.85205005e-02j,  0.02086874+4.66054555e-02j,\n",
       "       -0.02738787+2.30327487e-02j,  0.04725952+3.69902164e-02j,\n",
       "       -0.06624465-2.81737745e-04j, -0.06707852+7.94240824e-03j,\n",
       "       -0.0033752 +1.22658737e-01j, -0.00283449-1.81193586e-02j])"
      ]
     },
     "execution_count": 40,
     "metadata": {},
     "output_type": "execute_result"
    }
   ],
   "source": [
    "grover_amplification_4qbit(reg)\n",
    "reg.tensor"
   ]
  },
  {
   "cell_type": "code",
   "execution_count": 41,
   "id": "bb0a5d08",
   "metadata": {},
   "outputs": [
    {
     "data": {
      "text/plain": [
       "array([ 0.90736749+0.00330635j,  0.11326601+0.0073421j ,\n",
       "       -0.03335974+0.07821606j,  0.03919971+0.01696738j,\n",
       "       -0.12705468-0.25287058j,  0.0078083 +0.02232676j,\n",
       "       -0.12478623-0.05323296j, -0.08940785-0.08884012j,\n",
       "       -0.02343162+0.0861082j ,  0.00144507+0.05104395j,\n",
       "       -0.03411734+0.0107986j ,  0.02950656+0.05225994j,\n",
       "       -0.04704126+0.04664282j, -0.04181555+0.05304781j,\n",
       "       -0.0033752 +0.12265874j, -0.00283449-0.01811936j])"
      ]
     },
     "execution_count": 41,
     "metadata": {},
     "output_type": "execute_result"
    }
   ],
   "source": [
    "grover_oracle_4qbit(reg,['0000'])\n",
    "reg.tensor"
   ]
  },
  {
   "cell_type": "code",
   "execution_count": 42,
   "id": "4bc7f0c5",
   "metadata": {},
   "outputs": [
    {
     "data": {
      "text/plain": [
       "array([ 0.85484041-0.05895184j,  0.01864533-0.01880096j,\n",
       "       -0.08338576-0.16174383j,  0.00833389-0.04209141j,\n",
       "       -0.19424184+0.13253797j, -0.07026646+0.05364948j,\n",
       "       -0.17461107-0.04686694j, -0.14022476-0.08074067j,\n",
       "       -0.11509077+0.08047711j, -0.09363613+0.02083356j,\n",
       "       -0.10785142+0.0237651j , -0.01693506+0.033533j  ,\n",
       "       -0.15663986+0.02074066j, -0.13562093+0.02099051j,\n",
       "       -0.08018747-0.08598667j, -0.0844973 -0.02900075j])"
      ]
     },
     "execution_count": 42,
     "metadata": {},
     "output_type": "execute_result"
    }
   ],
   "source": [
    "grover_amplification_4qbit(reg)\n",
    "reg.tensor"
   ]
  },
  {
   "cell_type": "code",
   "execution_count": 43,
   "id": "84e6a453",
   "metadata": {},
   "outputs": [
    {
     "data": {
      "text/plain": [
       "(0.0, 1.0)"
      ]
     },
     "execution_count": 43,
     "metadata": {},
     "output_type": "execute_result"
    },
    {
     "data": {
      "image/png": "[encoded data removed]",
      "text/plain": [
       "<Figure size 432x288 with 1 Axes>"
      ]
     },
     "metadata": {
      "needs_background": "light"
     },
     "output_type": "display_data"
    }
   ],
   "source": [
    "\n",
    "states = [1, 2, 3, 4, 5, 6, 7, 8, 9, 10, 11, 12, 13, 14, 15, 16]\n",
    "plt.bar(states, np.abs(reg.tensor)**2)\n",
    "plt.xlabel('State')\n",
    "plt.title('Probability of state after amplitude amplification (3qubit)')\n",
    "plt.xticks(np.arange(1, len(states) + 1, 1))\n",
    "plt.ylabel('Probability')\n",
    "plt.ylim(0, 1)"
   ]
  },
  {
   "cell_type": "code",
   "execution_count": 44,
   "id": "a1d5e238",
   "metadata": {},
   "outputs": [
    {
     "data": {
      "text/plain": [
       "<matplotlib.collections.PathCollection at 0x7f9aa0766310>"
      ]
     },
     "execution_count": 44,
     "metadata": {},
     "output_type": "execute_result"
    },
    {
     "data": {
      "image/png": "[encoded data removed]",
      "text/plain": [
       "<Figure size 432x288 with 1 Axes>"
      ]
     },
     "metadata": {
      "needs_background": "light"
     },
     "output_type": "display_data"
    }
   ],
   "source": [
    "Probability = [0.25**2, 0.51**2, 0.83**2, 0.91**2, 0.85**2, 0.65**2, 0.31**2]\n",
    "Iterations = [0, 1, 2, 3, 4, 5, 6]\n",
    "\n",
    "plt.title('Probability as a function of iteration (4Qubit)')\n",
    "plt.ylabel('Probability')\n",
    "plt.xlabel('Iteration')\n",
    "plt.plot(Iterations, Probability)\n",
    "plt.scatter(Iterations, Probability)"
   ]
  },
  {
   "cell_type": "code",
   "execution_count": 45,
   "id": "99493882",
   "metadata": {},
   "outputs": [
    {
     "data": {
      "text/plain": [
       "<matplotlib.collections.PathCollection at 0x7f9aa07ec9a0>"
      ]
     },
     "execution_count": 45,
     "metadata": {},
     "output_type": "execute_result"
    },
    {
     "data": {
      "image/png": "[encoded data removed]",
      "text/plain": [
       "<Figure size 432x288 with 1 Axes>"
      ]
     },
     "metadata": {
      "needs_background": "light"
     },
     "output_type": "display_data"
    }
   ],
   "source": [
    "Qubits = [2, 3, 4]\n",
    "Iterations = [1, 2, 3]\n",
    "\n",
    "tQubits = [2, 3, 4, 5, 6]\n",
    "tIterations = [1, 2, 3, 4.44, 6.3]\n",
    "\n",
    "plt.plot(tQubits,tIterations, label = 'Theory')\n",
    "plt.plot(Qubits, Iterations, label = 'Observed')\n",
    "plt.title('Number of Iterations required for number of Qubits')\n",
    "plt.ylabel('Number of Iterations')\n",
    "plt.xlabel('Number of Qubits')\n",
    "plt.xticks(np.arange(1, len(tQubits)+2, 1))\n",
    "plt.yticks(np.arange(0, 8, 1))\n",
    "plt.legend()\n",
    "plt.scatter(Qubits, Iterations)"
   ]
  },
  {
   "cell_type": "code",
   "execution_count": 57,
   "id": "f5a48517",
   "metadata": {},
   "outputs": [
    {
     "name": "stdout",
     "output_type": "stream",
     "text": [
      "7\n",
      "Y\n",
      "7\n",
      "Y\n",
      "13\n",
      "11\n",
      "Y\n",
      "8\n",
      "Y\n",
      "7\n",
      "7\n",
      "2\n",
      "2\n",
      "11\n",
      "Y\n",
      "7\n",
      "8\n",
      "Y\n",
      "7\n",
      "Y\n",
      "8\n",
      "Y\n",
      "7\n",
      "Y\n",
      "4\n",
      "2\n",
      "7\n",
      "4\n",
      "Y\n",
      "4\n",
      "Y\n",
      "8\n",
      "Y\n",
      "13\n",
      "8\n",
      "Y\n",
      "2\n",
      "2\n",
      "4\n",
      "Y\n",
      "2\n",
      "Y\n",
      "7\n",
      "2\n",
      "4\n",
      "Y\n",
      "8\n",
      "Y\n",
      "7\n",
      "2\n",
      "11\n",
      "11\n",
      "8\n",
      "Y\n",
      "13\n",
      "4\n",
      "Y\n",
      "4\n",
      "7\n",
      "Y\n",
      "4\n",
      "Y\n",
      "4\n",
      "Y\n",
      "7\n",
      "13\n",
      "4\n",
      "4\n",
      "Y\n",
      "7\n",
      "Y\n",
      "2\n",
      "13\n",
      "4\n",
      "Y\n",
      "13\n",
      "7\n",
      "7\n",
      "8\n",
      "Y\n",
      "2\n",
      "2\n",
      "13\n",
      "7\n",
      "7\n",
      "Y\n",
      "13\n",
      "11\n",
      "7\n",
      "Y\n",
      "13\n",
      "11\n",
      "4\n",
      "Y\n",
      "4\n",
      "Y\n",
      "13\n",
      "13\n",
      "13\n",
      "2\n",
      "11\n",
      "Y\n",
      "4\n",
      "13\n",
      "4\n",
      "Y\n",
      "11\n",
      "Y\n",
      "7\n",
      "Y\n",
      "11\n",
      "Y\n",
      "2\n",
      "2\n",
      "13\n",
      "7\n",
      "Y\n",
      "8\n",
      "2\n",
      "7\n",
      "Y\n",
      "11\n",
      "Y\n",
      "11\n",
      "4\n",
      "Y\n",
      "11\n",
      "Y\n",
      "13\n",
      "7\n",
      "Y\n",
      "7\n",
      "Y\n",
      "4\n",
      "Y\n",
      "8\n",
      "Y\n",
      "13\n",
      "11\n",
      "Y\n",
      "13\n",
      "11\n",
      "Y\n",
      "7\n",
      "Y\n",
      "13\n",
      "7\n"
     ]
    },
    {
     "data": {
      "image/png": "[encoded data removed]",
      "text/plain": [
       "<Figure size 432x288 with 1 Axes>"
      ]
     },
     "metadata": {
      "needs_background": "light"
     },
     "output_type": "display_data"
    }
   ],
   "source": [
    "found = 0\n",
    "for i in range(100):\n",
    "    a = Shors(15)\n",
    "    if a == (3, 5) or a == (5, 3):\n",
    "        found += 1\n",
    "        print(\"Y\")\n",
    "        "
   ]
  },
  {
   "cell_type": "code",
   "execution_count": 56,
   "id": "604f6a37",
   "metadata": {},
   "outputs": [
    {
     "name": "stdout",
     "output_type": "stream",
     "text": [
      "0.52\n"
     ]
    }
   ],
   "source": [
    "print(found/100)"
   ]
  },
  {
   "cell_type": "code",
   "execution_count": 170,
   "id": "56cd1153",
   "metadata": {},
   "outputs": [
    {
     "name": "stdout",
     "output_type": "stream",
     "text": [
      "7\n"
     ]
    },
    {
     "data": {
      "text/plain": [
       "(5, 3)"
      ]
     },
     "execution_count": 170,
     "metadata": {},
     "output_type": "execute_result"
    },
    {
     "data": {
      "image/png": "[encoded data removed]",
      "text/plain": [
       "<Figure size 432x288 with 1 Axes>"
      ]
     },
     "metadata": {
      "needs_background": "light"
     },
     "output_type": "display_data"
    }
   ],
   "source": [
    "Shors(15)"
   ]
  },
  {
   "cell_type": "code",
   "execution_count": 169,
   "id": "3a34ba63",
   "metadata": {},
   "outputs": [
    {
     "name": "stdout",
     "output_type": "stream",
     "text": [
      "8\n"
     ]
    },
    {
     "data": {
      "text/plain": [
       "(3, 5)"
      ]
     },
     "execution_count": 169,
     "metadata": {},
     "output_type": "execute_result"
    },
    {
     "data": {
      "image/png": "[encoded data removed]",
      "text/plain": [
       "<Figure size 432x288 with 1 Axes>"
      ]
     },
     "metadata": {
      "needs_background": "light"
     },
     "output_type": "display_data"
    }
   ],
   "source": [
    "Shors(15)"
   ]
  },
  {
   "cell_type": "code",
   "execution_count": 168,
   "id": "abee1374",
   "metadata": {},
   "outputs": [
    {
     "name": "stdout",
     "output_type": "stream",
     "text": [
      "13\n"
     ]
    },
    {
     "data": {
      "text/plain": [
       "'Failed to find factors'"
      ]
     },
     "execution_count": 168,
     "metadata": {},
     "output_type": "execute_result"
    },
    {
     "data": {
      "image/png": "[encoded data removed]",
      "text/plain": [
       "<Figure size 432x288 with 1 Axes>"
      ]
     },
     "metadata": {
      "needs_background": "light"
     },
     "output_type": "display_data"
    }
   ],
   "source": [
    "Shors(15)"
   ]
  },
  {
   "cell_type": "code",
   "execution_count": 95,
   "id": "665ed839",
   "metadata": {},
   "outputs": [
    {
     "data": {
      "text/plain": [
       "(3, 7)"
      ]
     },
     "execution_count": 95,
     "metadata": {},
     "output_type": "execute_result"
    },
    {
     "data": {
      "image/png": "[encoded data removed]",
      "text/plain": [
       "<Figure size 432x288 with 1 Axes>"
      ]
     },
     "metadata": {
      "needs_background": "light"
     },
     "output_type": "display_data"
    }
   ],
   "source": [
    "Shors(21)"
   ]
  },
  {
   "cell_type": "code",
   "execution_count": 96,
   "id": "8615c514",
   "metadata": {},
   "outputs": [
    {
     "data": {
      "text/plain": [
       "(3, 7)"
      ]
     },
     "execution_count": 96,
     "metadata": {},
     "output_type": "execute_result"
    },
    {
     "data": {
      "image/png": "[encoded data removed]",
      "text/plain": [
       "<Figure size 432x288 with 1 Axes>"
      ]
     },
     "metadata": {
      "needs_background": "light"
     },
     "output_type": "display_data"
    }
   ],
   "source": [
    "Shors(21)"
   ]
  },
  {
   "cell_type": "code",
   "execution_count": 97,
   "id": "7ff8caae",
   "metadata": {},
   "outputs": [
    {
     "data": {
      "text/plain": [
       "'Failed to find factors'"
      ]
     },
     "execution_count": 97,
     "metadata": {},
     "output_type": "execute_result"
    },
    {
     "data": {
      "image/png": "[encoded data removed]",
      "text/plain": [
       "<Figure size 432x288 with 1 Axes>"
      ]
     },
     "metadata": {
      "needs_background": "light"
     },
     "output_type": "display_data"
    }
   ],
   "source": [
    "Shors(21)"
   ]
  },
  {
   "cell_type": "code",
   "execution_count": 101,
   "id": "e99818d7",
   "metadata": {},
   "outputs": [
    {
     "data": {
      "text/plain": [
       "'Failed to find factors'"
      ]
     },
     "execution_count": 101,
     "metadata": {},
     "output_type": "execute_result"
    },
    {
     "data": {
      "image/png": "[encoded data removed]",
      "text/plain": [
       "<Figure size 432x288 with 1 Axes>"
      ]
     },
     "metadata": {
      "needs_background": "light"
     },
     "output_type": "display_data"
    }
   ],
   "source": [
    "Shors(30)"
   ]
  }
 ],
 "metadata": {
  "kernelspec": {
   "display_name": "Python 3 (ipykernel)",
   "language": "python",
   "name": "python3"
  },
  "language_info": {
   "codemirror_mode": {
    "name": "ipython",
    "version": 3
   },
   "file_extension": ".py",
   "mimetype": "text/x-python",
   "name": "python",
   "nbconvert_exporter": "python",
   "pygments_lexer": "ipython3",
   "version": "3.10.10"
  }
 },
 "nbformat": 4,
 "nbformat_minor": 5
}
